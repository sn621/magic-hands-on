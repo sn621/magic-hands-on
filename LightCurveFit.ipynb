{
 "cells": [
  {
   "cell_type": "markdown",
   "metadata": {},
   "source": [
    "**Fitting Light curve**"
   ]
  },
  {
   "cell_type": "markdown",
   "metadata": {},
   "source": [
    "In this note book, you try to fit the light curve.\n",
    "\n",
    "Detect variabilities and Claim it statisticaly!"
   ]
  },
  {
   "cell_type": "markdown",
   "metadata": {},
   "source": [
    "# Loading the *flute* output"
   ]
  },
  {
   "cell_type": "markdown",
   "metadata": {},
   "source": [
    "We use PyROOT modules to load the output data.\n",
    "\n",
    "If you intarested in ROOT, see https://root.cern/"
   ]
  },
  {
   "cell_type": "code",
   "execution_count": null,
   "metadata": {},
   "outputs": [],
   "source": [
    "import ROOT\n",
    "from matplotlib import pyplot as plt\n",
    "from scipy.optimize import curve_fit\n",
    "import scipy.stats as stats\n",
    "import numpy as np"
   ]
  },
  {
   "cell_type": "code",
   "execution_count": null,
   "metadata": {},
   "outputs": [],
   "source": [
    "input_file = ROOT.TFile('/home/ssakurai/combine_lc_output.root')"
   ]
  },
  {
   "cell_type": "code",
   "execution_count": null,
   "metadata": {},
   "outputs": [],
   "source": [
    "light_curve = input_file.LightCurve"
   ]
  },
  {
   "cell_type": "code",
   "execution_count": null,
   "metadata": {},
   "outputs": [],
   "source": [
    "n_points = light_curve.GetN()"
   ]
  },
  {
   "cell_type": "markdown",
   "metadata": {},
   "source": [
    "PyROOT is bit difficult... so data will be converted into numpy arrays in the below."
   ]
  },
  {
   "cell_type": "code",
   "execution_count": null,
   "metadata": {},
   "outputs": [],
   "source": [
    "x_value = []\n",
    "y_value = []\n",
    "x_error = []\n",
    "y_error = []\n",
    "x_tmp = light_curve.GetX()\n",
    "y_tmp = light_curve.GetY()\n",
    "for i in range(light_curve.GetN()):\n",
    "        x_value.append(x_tmp[i])\n",
    "        y_value.append(y_tmp[i])\n",
    "        x_error.append(light_curve.GetErrorX(i))\n",
    "        y_error.append(light_curve.GetErrorY(i))\n",
    "x_value = np.array(x_value)\n",
    "y_value = np.array(y_value)\n",
    "x_error = np.array(x_error)\n",
    "y_error = np.array(y_error)"
   ]
  },
  {
   "cell_type": "markdown",
   "metadata": {},
   "source": [
    "Now you can accress data points and its errors through `x_value`, `y_value`, `x_error` and `y_error`\n",
    "\n",
    "So.. the next is difining a fit rage."
   ]
  },
  {
   "cell_type": "markdown",
   "metadata": {},
   "source": [
    "# Defining a fit range"
   ]
  },
  {
   "cell_type": "markdown",
   "metadata": {},
   "source": [
    "First, you should check your light curve by your eye.\n",
    "\n",
    "Let's make a plot."
   ]
  },
  {
   "cell_type": "code",
   "execution_count": null,
   "metadata": {},
   "outputs": [],
   "source": [
    "fig = plt.figure(figsize=(10,5))\n",
    "plt.plot([56243.95, 56244.11],[1.2e-10,1.2e-10],'b--',label='Crab flux > 300 GeV')\n",
    "plt.errorbar(x_value,y_value,xerr=x_error,yerr=y_error,fmt='ko')\n",
    "#plt.xlim(56243.96,56244.0) # change here and find range\n",
    "#plt.ylim(0,1.5e-10) # change here if you need\n",
    "plt.xlabel('Time (MJD)')\n",
    "plt.ylabel('Flux > 300 GeV (???)')\n",
    "plt.legend()\n",
    "plt.show()"
   ]
  },
  {
   "cell_type": "code",
   "execution_count": null,
   "metadata": {},
   "outputs": [],
   "source": [
    "your_fit_begin = 56244.030\n",
    "your_fit_end =  56244.075"
   ]
  },
  {
   "cell_type": "markdown",
   "metadata": {},
   "source": [
    "Once you dicide a fit range, let's try fitting by constant value at first."
   ]
  },
  {
   "cell_type": "markdown",
   "metadata": {},
   "source": [
    "# Fitting by a constant value"
   ]
  },
  {
   "cell_type": "markdown",
   "metadata": {},
   "source": [
    "We will use *scipy* module to perform a fit.\n",
    "\n",
    "the detail is here: https://docs.scipy.org/doc/scipy/reference/generated/scipy.optimize.curve_fit.html\n",
    "\n",
    "First you have to define a function what you want to fit."
   ]
  },
  {
   "cell_type": "markdown",
   "metadata": {},
   "source": [
    "So let's start from a constant function `your_func_c`\n",
    "$$\n",
    "    f(x) = C\n",
    "$$"
   ]
  },
  {
   "cell_type": "code",
   "execution_count": null,
   "metadata": {},
   "outputs": [],
   "source": [
    "def your_func_c(x, c):\n",
    "    return x*0+c "
   ]
  },
  {
   "cell_type": "markdown",
   "metadata": {},
   "source": [
    "and for the simplisity, prepare the values only in the your fit range."
   ]
  },
  {
   "cell_type": "code",
   "execution_count": null,
   "metadata": {},
   "outputs": [],
   "source": [
    "index_fit = (x_value < your_fit_end) * (x_value > your_fit_begin)\n",
    "x_fit = x_value[index_fit]\n",
    "y_fit = y_value[index_fit]\n",
    "ye_fit = y_error[index_fit]"
   ]
  },
  {
   "cell_type": "code",
   "execution_count": null,
   "metadata": {},
   "outputs": [],
   "source": [
    "plt.errorbar(x_fit,y_fit,yerr=ye_fit,fmt='o')"
   ]
  },
  {
   "cell_type": "code",
   "execution_count": null,
   "metadata": {},
   "outputs": [],
   "source": [
    "popt, pcov = curve_fit(your_func_c, x_fit,y_fit)"
   ]
  },
  {
   "cell_type": "code",
   "execution_count": null,
   "metadata": {},
   "outputs": [],
   "source": [
    "print(popt)\n",
    "print(np.sqrt(np.diag(pcov)))"
   ]
  },
  {
   "cell_type": "code",
   "execution_count": null,
   "metadata": {},
   "outputs": [],
   "source": [
    "plt.errorbar(x_fit,y_fit,yerr=ye_fit,fmt='o')\n",
    "x_func = np.arange(your_fit_begin,your_fit_end,0.001)\n",
    "plt.plot(x_func,your_func_c(x_func,*popt),'k--')"
   ]
  },
  {
   "cell_type": "markdown",
   "metadata": {},
   "source": [
    "And evaluate your fit by $\\chi^2$\n",
    "\n",
    "The followings are useful functions."
   ]
  },
  {
   "cell_type": "code",
   "execution_count": null,
   "metadata": {},
   "outputs": [],
   "source": [
    "def calculate_chi_square(x,y,yerr,func,param):\n",
    "    n = len(x)\n",
    "    tmp_array = [((y[i] - func(v,*param))/yerr[i])**2 for i,v in enumerate(x) ] \n",
    "    return np.sum(tmp_array)"
   ]
  },
  {
   "cell_type": "code",
   "execution_count": null,
   "metadata": {},
   "outputs": [],
   "source": [
    "def calculate_dof(y,param):\n",
    "    return len(y)-len(param)"
   ]
  },
  {
   "cell_type": "code",
   "execution_count": null,
   "metadata": {},
   "outputs": [],
   "source": [
    "chi2_c = calculate_chi_square(x_fit,y_fit,ye_fit,your_func_c,popt)"
   ]
  },
  {
   "cell_type": "code",
   "execution_count": null,
   "metadata": {},
   "outputs": [],
   "source": [
    "dof_c = calculate_dof(y_fit,popt)"
   ]
  },
  {
   "cell_type": "markdown",
   "metadata": {},
   "source": [
    "From the degree of freedom and $\\chi^2$, you can calculate the probability obtaining the observed data from assumed model. "
   ]
  },
  {
   "cell_type": "code",
   "execution_count": null,
   "metadata": {},
   "outputs": [],
   "source": [
    "stats.chi2.sf(chi2_c,dof_c)"
   ]
  },
  {
   "cell_type": "markdown",
   "metadata": {},
   "source": [
    "So constatnt fit is not good. let's try another function."
   ]
  },
  {
   "cell_type": "markdown",
   "metadata": {},
   "source": [
    "# Fitting by your function"
   ]
  },
  {
   "cell_type": "markdown",
   "metadata": {},
   "source": [
    "There are several functions to characterize a variavility. \n",
    "\n",
    "one example is an exponential curve.\n",
    "\n",
    "$$\n",
    "f(x) = C + a_0 \\exp{\\frac{(x-a_1)}{a_2}}\n",
    "$$\n",
    "\n",
    "Please define a function as you wish"
   ]
  },
  {
   "cell_type": "code",
   "execution_count": null,
   "metadata": {},
   "outputs": [],
   "source": [
    "def your_func(x, a,b,c,d):\n",
    "    return a+b*np.exp((x-c)/d) # This is an example!!! "
   ]
  },
  {
   "cell_type": "code",
   "execution_count": null,
   "metadata": {},
   "outputs": [],
   "source": [
    "#p0_init = \n",
    "#p1_init =\n",
    "#p2_init =\n",
    "#p3_init =\n",
    "#p4_init =\n",
    "popt, pcov = curve_fit(your_func, x_fit,y_fit)\n",
    "#popt, pcov = curve_fit(your_func, x_fit,y_fit,p0=[p0_init,p1_init,p2_init,p3_init,p4_init])"
   ]
  },
  {
   "cell_type": "code",
   "execution_count": null,
   "metadata": {},
   "outputs": [],
   "source": [
    "print('Parameters:',popt)\n",
    "print('Errors:',np.sqrt(np.diag(pcov)))"
   ]
  },
  {
   "cell_type": "code",
   "execution_count": null,
   "metadata": {},
   "outputs": [],
   "source": [
    "plt.errorbar(x_fit,y_fit,yerr=ye_fit,fmt='o')\n",
    "x_func = np.arange(your_fit_begin,your_fit_end,0.001)\n",
    "plt.plot(x_func,your_func(x_func,*popt),'k--')"
   ]
  },
  {
   "cell_type": "code",
   "execution_count": null,
   "metadata": {},
   "outputs": [],
   "source": [
    "chi2_new = calculate_chi_square(x_fit,y_fit,ye_fit,your_func,popt)"
   ]
  },
  {
   "cell_type": "code",
   "execution_count": null,
   "metadata": {},
   "outputs": [],
   "source": [
    "dof_new = calculate_dof(y_fit,popt)"
   ]
  },
  {
   "cell_type": "code",
   "execution_count": null,
   "metadata": {},
   "outputs": [],
   "source": [
    "stats.chi2.sf(chi2_new,dof_new)"
   ]
  },
  {
   "cell_type": "markdown",
   "metadata": {},
   "source": [
    "How was your fitting? If it does not work well, change a fit range or function!"
   ]
  },
  {
   "cell_type": "markdown",
   "metadata": {},
   "source": [
    "Once you get the time scale of variability, let's convert to min or second"
   ]
  },
  {
   "cell_type": "code",
   "execution_count": null,
   "metadata": {},
   "outputs": [],
   "source": []
  }
 ],
 "metadata": {
  "kernelspec": {
   "display_name": "Python 2",
   "language": "python",
   "name": "python2"
  },
  "language_info": {
   "codemirror_mode": {
    "name": "ipython",
    "version": 2
   },
   "file_extension": ".py",
   "mimetype": "text/x-python",
   "name": "python",
   "nbconvert_exporter": "python",
   "pygments_lexer": "ipython2",
   "version": "2.7.18"
  },
  "toc": {
   "base_numbering": 1,
   "nav_menu": {},
   "number_sections": true,
   "sideBar": true,
   "skip_h1_title": false,
   "title_cell": "Table of Contents",
   "title_sidebar": "Contents",
   "toc_cell": false,
   "toc_position": {},
   "toc_section_display": true,
   "toc_window_display": false
  },
  "varInspector": {
   "cols": {
    "lenName": 16,
    "lenType": 16,
    "lenVar": 40
   },
   "kernels_config": {
    "python": {
     "delete_cmd_postfix": "",
     "delete_cmd_prefix": "del ",
     "library": "var_list.py",
     "varRefreshCmd": "print(var_dic_list())"
    },
    "r": {
     "delete_cmd_postfix": ") ",
     "delete_cmd_prefix": "rm(",
     "library": "var_list.r",
     "varRefreshCmd": "cat(var_dic_list()) "
    }
   },
   "types_to_exclude": [
    "module",
    "function",
    "builtin_function_or_method",
    "instance",
    "_Feature"
   ],
   "window_display": false
  }
 },
 "nbformat": 4,
 "nbformat_minor": 2
}
