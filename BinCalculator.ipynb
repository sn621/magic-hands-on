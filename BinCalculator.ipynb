{
 "cells": [
  {
   "cell_type": "markdown",
   "metadata": {},
   "source": [
    "**Bin Claculator**"
   ]
  },
  {
   "cell_type": "markdown",
   "metadata": {},
   "source": [
    "- Purpose:  calculating variable-width bins defined by fixed # of ON events for your light curve.\n",
    "\n",
    "- Input: output file contains **event time, energy, and theta square** produced by *modified flute*.\n",
    "\n",
    "- Output: bin-edge arrays for *flute*, modify your flute.rc"
   ]
  },
  {
   "cell_type": "markdown",
   "metadata": {},
   "source": [
    "# Loading input files"
   ]
  },
  {
   "cell_type": "markdown",
   "metadata": {},
   "source": [
    "## import modules"
   ]
  },
  {
   "cell_type": "code",
   "execution_count": null,
   "metadata": {},
   "outputs": [],
   "source": [
    "import numpy as np\n",
    "from matplotlib import pyplot as plt"
   ]
  },
  {
   "cell_type": "markdown",
   "metadata": {},
   "source": [
    "numpy is a useful module to handle arrays.\n",
    "\n",
    "matplotlib.pyplot is a module to visualize your calculation."
   ]
  },
  {
   "cell_type": "markdown",
   "metadata": {},
   "source": [
    "## Reading input"
   ]
  },
  {
   "cell_type": "code",
   "execution_count": null,
   "metadata": {},
   "outputs": [],
   "source": [
    "input_file1 = np.loadtxt('',delimiter=',',skiprows=1)"
   ]
  },
  {
   "cell_type": "markdown",
   "metadata": {},
   "source": [
    "`input_file1` contains data as follows\n",
    "\n",
    "$$\n",
    "\\left[\\begin{array}{ccc}\n",
    "            % 横並びは&を挟む\n",
    "            [T_0 & E_0 & \\theta^2_0] \\\\\n",
    "           [T_1 & E_1 & \\theta^2_1] \\\\\n",
    "            & ... & &\\\\\n",
    "            % 水平線は\\\\hlineを使う\n",
    "             [T_{N-1} & E_{N-1} & \\theta^2_{N-1}] \\\\\n",
    "        \\end{array}\\right] \\quad\n",
    "$$\n",
    "\n",
    "Where, T is an event time (MJD), E is an energy (GeV), $\\theta^2$ is a theta square (deg$^2$), and N is the number of ON events"
   ]
  },
  {
   "cell_type": "code",
   "execution_count": null,
   "metadata": {},
   "outputs": [],
   "source": [
    "print input_file1 "
   ]
  },
  {
   "cell_type": "markdown",
   "metadata": {},
   "source": [
    "One can access any data by `input_file[N,M]`. \n",
    "\n",
    "where M is an index for Time, Energy, and Theta square and N is an index for events\n",
    "\n",
    "e.g.: If you want to access all the event times, you can type as belows"
   ]
  },
  {
   "cell_type": "code",
   "execution_count": null,
   "metadata": {},
   "outputs": [],
   "source": [
    "time_1 = input_file1[:,0]\n",
    "energy_1 = input_file1[:,1]"
   ]
  },
  {
   "cell_type": "markdown",
   "metadata": {},
   "source": [
    "## Hands-on 1: Load data by yourself!"
   ]
  },
  {
   "cell_type": "markdown",
   "metadata": {},
   "source": [
    "Please try loading data for different wobble offset angle.\n",
    "\n",
    "You can comment out bellows and modify it."
   ]
  },
  {
   "cell_type": "code",
   "execution_count": null,
   "metadata": {},
   "outputs": [],
   "source": [
    "#input_file2 = np.loadtxt('',delimiter=',',skiprows=1)\n",
    "#time_2  = input_file2[]\n",
    "#energy_2 = input_file2[]"
   ]
  },
  {
   "cell_type": "markdown",
   "metadata": {},
   "source": [
    "# Making a plot"
   ]
  },
  {
   "cell_type": "markdown",
   "metadata": {},
   "source": [
    "Let's visualize your data using *pyplot*\n",
    "\n",
    "if you want to make graph a from combinations of values, e.g. (X, Y), please use `pyplot.plot` as `pyplot.plot(X,Y)`\n",
    "\n",
    "but in this notebook, pyplot can be used as `plt`. So use `plt.pyplot(X,Y)` instead!"
   ]
  },
  {
   "cell_type": "code",
   "execution_count": null,
   "metadata": {},
   "outputs": [],
   "source": [
    "plt.plot(time_1,energy_1,'o')\n",
    "plt.show()"
   ]
  },
  {
   "cell_type": "markdown",
   "metadata": {},
   "source": [
    "If you want to make it beautiful, see references.\n",
    "\n",
    "Japanese: https://qiita.com/KntKnk0328/items/5ef40d9e77308dd0d0a4\n",
    "\n",
    "English: https://matplotlib.org/3.3.4/api/_as_gen/matplotlib.pyplot.plot.html"
   ]
  },
  {
   "cell_type": "markdown",
   "metadata": {},
   "source": [
    "## Hands-on 2: Make full plot!"
   ]
  },
  {
   "cell_type": "markdown",
   "metadata": {},
   "source": [
    "Observation data with different wobble offset angle is still missing in the above plot!\n",
    "\n",
    "You can add points to the plot before `plt.show()`\n",
    "\n",
    "Please makr a full plot with both stardard and differecnt wobble offset angle observations."
   ]
  },
  {
   "cell_type": "code",
   "execution_count": null,
   "metadata": {},
   "outputs": [],
   "source": [
    "plt.plot(time_1,energy_1,'o')\n",
    "#plt.plot()\n",
    "#plt.xlabel('')\n",
    "#plt.ylabel('')\n",
    "plt.show()"
   ]
  },
  {
   "cell_type": "markdown",
   "metadata": {},
   "source": [
    "# Calculating bins"
   ]
  },
  {
   "cell_type": "markdown",
   "metadata": {},
   "source": [
    "You loaded your data and confirmed events by a plot.\n",
    "\n",
    "So the next is **binning calculations!**\n",
    "\n",
    "Here, we want to calculate bins, in other words, time durations of flux calculation.\n",
    "\n",
    "In order to keep statistical presition, we want to hold sevetal ON events in each bin.\n",
    "\n",
    "Simply speaking, a statstical uncertainty of flux delives from the number of ON events.\n",
    "\n",
    "A relative uncertainty $\\sigma_{rel}$ can be estimated by $\\sigma_{rel} = \\sigma/\\mu = \\sqrt{N}/N = 1/\\sqrt{N}$ from the possion statistics.\n",
    "\n",
    "This time, let's dicide the number of events in a bin keeping **the relative uncerataiy is less than 50\\%**."
   ]
  },
  {
   "cell_type": "markdown",
   "metadata": {},
   "source": [
    "## Hands-on 3: How many events do we need?"
   ]
  },
  {
   "cell_type": "markdown",
   "metadata": {},
   "source": [
    "Simple question: How many events do we need to keep relative uncertainty is less than 50%.\n",
    "\n",
    "Please decide the number of ON events."
   ]
  },
  {
   "cell_type": "code",
   "execution_count": null,
   "metadata": {},
   "outputs": [],
   "source": [
    "#n_of_on_evts = "
   ]
  },
  {
   "cell_type": "markdown",
   "metadata": {},
   "source": [
    "## Calculating bin-edges using numpy"
   ]
  },
  {
   "cell_type": "markdown",
   "metadata": {},
   "source": [
    "What we want to here is following.\n",
    "\n",
    "- Sorting ON events in order of a event time.\n",
    "\n",
    "- Dividing ON events every N events. N is value you defidend in the above!\n",
    "\n",
    "- Calculating bin edges from binned events."
   ]
  },
  {
   "cell_type": "markdown",
   "metadata": {},
   "source": [
    "First we need combining the events "
   ]
  },
  {
   "cell_type": "code",
   "execution_count": null,
   "metadata": {},
   "outputs": [],
   "source": [
    "event_time_all = np.hstack([time_1,time_2])"
   ]
  },
  {
   "cell_type": "markdown",
   "metadata": {},
   "source": [
    "And sort them by event time."
   ]
  },
  {
   "cell_type": "code",
   "execution_count": null,
   "metadata": {},
   "outputs": [],
   "source": [
    "event_time_all_sorted = np.sort(event_time_all)"
   ]
  },
  {
   "cell_type": "markdown",
   "metadata": {},
   "source": [
    "Cheak the number of events."
   ]
  },
  {
   "cell_type": "code",
   "execution_count": null,
   "metadata": {},
   "outputs": [],
   "source": [
    "print 'N of input1',len(time_1)\n",
    "print 'N of input2',len(time_2)\n",
    "print 'N of total events',len(event_time_all_sorted)"
   ]
  },
  {
   "cell_type": "markdown",
   "metadata": {},
   "source": [
    "In case of IC310, ON event detected within a very short duration.\n",
    "\n",
    "So we need to remove the events which has same event time.\n",
    "\n",
    "To do so, use `numpy.unique()`\n",
    "\n",
    "**NOTE:** This temporal way to calculate bin edges. we will use all the events in later step."
   ]
  },
  {
   "cell_type": "markdown",
   "metadata": {},
   "source": [
    "Before going to the bin calculation, we need to get number of resultant bins defined by `n_of_on_evts`"
   ]
  },
  {
   "cell_type": "code",
   "execution_count": null,
   "metadata": {},
   "outputs": [],
   "source": [
    "event_time_cleaned = np.unique(event_time_all_sorted)\n",
    "m_bin = len(event_time_cleaned) / n_of_on_evts\n",
    "print 'Number of bins, M',m_bin \n",
    "surplus = len(event_time_cleaned) % n_of_on_evts\n",
    "print 'Surplus',surplus"
   ]
  },
  {
   "cell_type": "markdown",
   "metadata": {},
   "source": [
    "This surpluse of events will be added at the end of calculation. Don't worry!"
   ]
  },
  {
   "cell_type": "markdown",
   "metadata": {},
   "source": [
    "### Dividing events in every N events."
   ]
  },
  {
   "cell_type": "markdown",
   "metadata": {},
   "source": [
    "For simplisity, prepare a time array without surplus events."
   ]
  },
  {
   "cell_type": "code",
   "execution_count": null,
   "metadata": {},
   "outputs": [],
   "source": [
    "time_without_surplus = event_time_cleaned[:-surplus]"
   ]
  },
  {
   "cell_type": "code",
   "execution_count": null,
   "metadata": {},
   "outputs": [],
   "source": [
    "binned_events = time_without_surplus.reshape((m_bin,n_of_on_evts))"
   ]
  },
  {
   "cell_type": "markdown",
   "metadata": {},
   "source": [
    "`ndarray.reshape` is a very powerful function.\n",
    "\n",
    "Now `binned_events` contains arrays as indicated as belows "
   ]
  },
  {
   "cell_type": "markdown",
   "metadata": {},
   "source": [
    "\n",
    "$$\n",
    "\\left[\\begin{array}{cccc}\n",
    "            % 横並びは&を挟む\n",
    "            [T^0_0 & T^0_1 & ... & T^0_{N-1}] \\\\\n",
    "            [T^1_0 & T^1_1 & ... & T^1_{N-1}] \\\\\n",
    "            & & ... &\\\\\n",
    "            % 水平線は\\\\hlineを使う\n",
    "             [T^{M-1}_0 & T^{M-1}_1 & ... & T^{M-1}_{N-1}] \\\\\n",
    "        \\end{array}\\right] \\quad\n",
    "$$\n",
    "Where $T^i_j$ is $j$ th event in the $i$ th bin.\n",
    "\n",
    "Compare before and after calculation!"
   ]
  },
  {
   "cell_type": "code",
   "execution_count": null,
   "metadata": {},
   "outputs": [],
   "source": [
    "print time_without_surplus"
   ]
  },
  {
   "cell_type": "code",
   "execution_count": null,
   "metadata": {},
   "outputs": [],
   "source": [
    "print binned_events"
   ]
  },
  {
   "cell_type": "markdown",
   "metadata": {},
   "source": [
    "Finally, binedges $B$, which we want to calculate is the following."
   ]
  },
  {
   "cell_type": "markdown",
   "metadata": {},
   "source": [
    "$$\n",
    "\\begin{align}\n",
    "B_0 &= T_0^0 \\\\\n",
    "B_1 &= \\frac{T_0^1 + T_{N-1}^{0}}{2} \\\\\n",
    "B_2 &=  \\frac{T_0^2 + T_{N-1}^{1}}{2}  \\\\\n",
    "...\\nonumber \\\\\n",
    "B_i &=  \\frac{T_0^{i} + T_{N-1}^{i-1}}{2}  \\\\\n",
    "...\\nonumber \\\\\n",
    "B_{M-2} &=  \\frac{T_0^{M-2} + T_{N-1}^{M-3}}{2}  \\\\\n",
    "B_{M-1} &=  \\frac{T_0^{M-1} + T_{N-1}^{M-2}}{2}  \\\\\n",
    "B_{M} &= T_{N-1}^{M-1} \\\\\n",
    "\\end{align}\n",
    "$$"
   ]
  },
  {
   "cell_type": "markdown",
   "metadata": {},
   "source": [
    "### Hands-on extra 1: Claculate $B_i$ by a *for loop*"
   ]
  },
  {
   "cell_type": "code",
   "execution_count": null,
   "metadata": {},
   "outputs": [],
   "source": []
  },
  {
   "cell_type": "markdown",
   "metadata": {},
   "source": [
    "### Calculating $B_i$ by a numpy function"
   ]
  },
  {
   "cell_type": "code",
   "execution_count": null,
   "metadata": {},
   "outputs": [],
   "source": [
    "ts_n_1 = binned_events.max(axis=1)"
   ]
  },
  {
   "cell_type": "markdown",
   "metadata": {},
   "source": [
    "This correspoinds $T_{N-1}^h$ in the above, because we have sorted events!!!"
   ]
  },
  {
   "cell_type": "code",
   "execution_count": null,
   "metadata": {},
   "outputs": [],
   "source": [
    "binned_events[:,n_of_on_evts-1]"
   ]
  },
  {
   "cell_type": "markdown",
   "metadata": {},
   "source": [
    "The above is the same."
   ]
  },
  {
   "cell_type": "code",
   "execution_count": null,
   "metadata": {},
   "outputs": [],
   "source": [
    "ts_0 = binned_events.min(axis=1)"
   ]
  },
  {
   "cell_type": "markdown",
   "metadata": {},
   "source": [
    "This correspoinds $T_{0}^h$ in the above."
   ]
  },
  {
   "cell_type": "markdown",
   "metadata": {},
   "source": [
    "So the answer is the following."
   ]
  },
  {
   "cell_type": "code",
   "execution_count": null,
   "metadata": {},
   "outputs": [],
   "source": [
    "B_0 = ts_0[0] # B_0\n",
    "B_i = ts_0[1:] / 2. +ts_n_1[:-1] / 2. # B_i\n",
    "B_M_1 =  ts_n_1[-1] # B_M-1"
   ]
  },
  {
   "cell_type": "markdown",
   "metadata": {},
   "source": [
    "`array[-1]` can pick up the value at the end of the array.\n",
    "\n",
    "`array[1:]` will be new array without `array[0]`.\n",
    "\n",
    "`array[:-1]` will be new array without `array[-1]`."
   ]
  },
  {
   "cell_type": "code",
   "execution_count": null,
   "metadata": {},
   "outputs": [],
   "source": [
    "print B_0\n",
    "print B_i\n",
    "print B_M_1"
   ]
  },
  {
   "cell_type": "code",
   "execution_count": null,
   "metadata": {},
   "outputs": [],
   "source": [
    "time_bins = np.hstack([np.array(B_0), B_i , np.array(B_M_1)])"
   ]
  },
  {
   "cell_type": "code",
   "execution_count": null,
   "metadata": {},
   "outputs": [],
   "source": [
    "time_bins"
   ]
  },
  {
   "cell_type": "markdown",
   "metadata": {},
   "source": [
    "Don't forget to include the surplus."
   ]
  },
  {
   "cell_type": "code",
   "execution_count": null,
   "metadata": {},
   "outputs": [],
   "source": [
    "time_bins[-1] = event_time_all_sorted[-1]"
   ]
  },
  {
   "cell_type": "markdown",
   "metadata": {},
   "source": [
    "Confirm the end of the array!"
   ]
  },
  {
   "cell_type": "code",
   "execution_count": null,
   "metadata": {},
   "outputs": [],
   "source": [
    "time_bins"
   ]
  },
  {
   "cell_type": "markdown",
   "metadata": {},
   "source": [
    "Now, we are ready to make outputs for *flute*, before doing that let's check by a plot!"
   ]
  },
  {
   "cell_type": "code",
   "execution_count": null,
   "metadata": {},
   "outputs": [],
   "source": [
    "fig=plt.figure(figsize=(15,5))\n",
    "\n",
    "plt.plot(time_1,energy_1,'o',label='wobble offset =  deg')\n",
    "plt.plot(time_2,energy_2,'o',label='wobble offset =  deg')\n",
    "for i in time_bins:\n",
    "    plt.plot([i,i],[0,25000],'k--',alpha=0.5)\n",
    "\n",
    "#plt.xlim(56244.10-0.02,56244.10+0.02)\n",
    "#plt.ylim(0,25000)\n",
    "#plt.xlabel('')\n",
    "#plt.ylabel('')\n",
    "#plt.legend()\n",
    "#plt.savefig('')\n",
    "plt.show()"
   ]
  },
  {
   "cell_type": "markdown",
   "metadata": {},
   "source": [
    "### Hands-on 4: Complete the above plot for the presentation!"
   ]
  },
  {
   "cell_type": "markdown",
   "metadata": {},
   "source": [
    "# Producing output for *flute*"
   ]
  },
  {
   "cell_type": "markdown",
   "metadata": {},
   "source": [
    "What we really want to prepare is the arrays of begining time and end time.\n",
    "\n",
    "So let's reshape arrays as you can copy and paste.\n",
    "\n",
    "The format is...\n",
    "\n",
    "`flute.LCbinlowedge: 55478.177256, 55508.191016, 55544.072045, 55567.053534, 55588.952311, 55595.833718`\n",
    "\n",
    "` flute.LCbinupedge: 55478.219809, 55508.233503, 55544.108013, 55567.078971, 55588.983142, 55595.848872`"
   ]
  },
  {
   "cell_type": "markdown",
   "metadata": {},
   "source": [
    "### Hands-on 5: Do it yourself"
   ]
  },
  {
   "cell_type": "markdown",
   "metadata": {},
   "source": [
    "For LCbinlowedge "
   ]
  },
  {
   "cell_type": "code",
   "execution_count": null,
   "metadata": {},
   "outputs": [],
   "source": [
    "with open('','w') as f:\n",
    "    f.write('flute.LCbinlowedge: ')\n",
    "    for i in ts_0:\n",
    "        f.write('{}, '.format(i))"
   ]
  },
  {
   "cell_type": "code",
   "execution_count": null,
   "metadata": {},
   "outputs": [],
   "source": [
    "#%less output_example_lowedge.txt"
   ]
  },
  {
   "cell_type": "markdown",
   "metadata": {},
   "source": [
    "For LCbinupedge"
   ]
  },
  {
   "cell_type": "code",
   "execution_count": null,
   "metadata": {},
   "outputs": [],
   "source": []
  },
  {
   "cell_type": "code",
   "execution_count": null,
   "metadata": {},
   "outputs": [],
   "source": []
  }
 ],
 "metadata": {
  "kernelspec": {
   "display_name": "Python 2",
   "language": "python",
   "name": "python2"
  },
  "language_info": {
   "codemirror_mode": {
    "name": "ipython",
    "version": 2
   },
   "file_extension": ".py",
   "mimetype": "text/x-python",
   "name": "python",
   "nbconvert_exporter": "python",
   "pygments_lexer": "ipython2",
   "version": "2.7.18"
  },
  "toc": {
   "base_numbering": 1,
   "nav_menu": {},
   "number_sections": true,
   "sideBar": true,
   "skip_h1_title": false,
   "title_cell": "Table of Contents",
   "title_sidebar": "Contents",
   "toc_cell": false,
   "toc_position": {},
   "toc_section_display": true,
   "toc_window_display": false
  },
  "varInspector": {
   "cols": {
    "lenName": 16,
    "lenType": 16,
    "lenVar": 40
   },
   "kernels_config": {
    "python": {
     "delete_cmd_postfix": "",
     "delete_cmd_prefix": "del ",
     "library": "var_list.py",
     "varRefreshCmd": "print(var_dic_list())"
    },
    "r": {
     "delete_cmd_postfix": ") ",
     "delete_cmd_prefix": "rm(",
     "library": "var_list.r",
     "varRefreshCmd": "cat(var_dic_list()) "
    }
   },
   "types_to_exclude": [
    "module",
    "function",
    "builtin_function_or_method",
    "instance",
    "_Feature"
   ],
   "window_display": false
  }
 },
 "nbformat": 4,
 "nbformat_minor": 2
}
